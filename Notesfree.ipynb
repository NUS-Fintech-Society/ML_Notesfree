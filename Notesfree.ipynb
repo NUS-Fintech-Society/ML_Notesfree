{
 "cells": [
  {
   "cell_type": "code",
   "execution_count": 1,
   "id": "e06d2b68",
   "metadata": {},
   "outputs": [],
   "source": [
    "import librosa\n",
    "import numpy as np\n",
    "import IPython.display as ipd\n",
    "import librosa.display\n",
    "import matplotlib.pyplot as plt\n",
    "from scipy.io import wavfile\n",
    "\n",
    "import os\n",
    "import numpy as np\n",
    "from PIL import Image\n",
    "from scipy.fftpack import fft"
   ]
  },
  {
   "cell_type": "code",
   "execution_count": 9,
   "id": "50242b28",
   "metadata": {},
   "outputs": [],
   "source": [
    "# taking a look at one audio file\n",
    "path = '../input/train/audio/yes/0a7c2a8d_nohash_0.wav'"
   ]
  },
  {
   "cell_type": "code",
   "execution_count": 12,
   "id": "f16549a5",
   "metadata": {},
   "outputs": [],
   "source": [
    "# hear audio file\n",
    "wav, sr = librosa.load(path, sr=None)\n",
    "ipd.Audio(wav, rate=sr)\n",
    "# noted to be 1 second"
   ]
  },
  {
   "cell_type": "code",
   "execution_count": null,
   "id": "64281942",
   "metadata": {},
   "outputs": [],
   "source": [
    "# visualise audio file\n",
    "plt.figure(figsize=(15,4))\n",
    "\n",
    "# duration is set to 1 to account for actual duration of audio file\n",
    "data, sample_rate = librosa.load(path, mono = True, offset = 0.0, duration = 1, res_type = 'kaiser_best')\n",
    "librosa.display.waveplot(data, sr = sample_rate, max_points = 50000.0, x_axis = 'time', offset = 0.0, max_sr = 1000)"
   ]
  },
  {
   "cell_type": "code",
   "execution_count": null,
   "id": "0e3a278a",
   "metadata": {},
   "outputs": [],
   "source": [
    "# alternatively, visualising through signals\n",
    "\n",
    "samplingFrequency, signalData = wavfile.read('0a7c2a8d_nohash_0.wav')\n",
    "plot.subplot(211)\n",
    "plot.plot(signalData)\n",
    "plot.xlabel('Sample')\n",
    "plot.ylabel('Amplitude')"
   ]
  },
  {
   "cell_type": "code",
   "execution_count": null,
   "id": "eb40c213",
   "metadata": {},
   "outputs": [],
   "source": [
    "# spectogram of the same audio file\n",
    "\n",
    "plot.subplot(212)\n",
    "plot.specgram(signalData, Fs = samplingFrequency)\n",
    "plot.xlabel('Time')\n",
    "plot.ylabel('Frequency')"
   ]
  }
 ],
 "metadata": {
  "kernelspec": {
   "display_name": "Python 3",
   "language": "python",
   "name": "python3"
  },
  "language_info": {
   "codemirror_mode": {
    "name": "ipython",
    "version": 3
   },
   "file_extension": ".py",
   "mimetype": "text/x-python",
   "name": "python",
   "nbconvert_exporter": "python",
   "pygments_lexer": "ipython3",
   "version": "3.8.8"
  }
 },
 "nbformat": 4,
 "nbformat_minor": 5
}
